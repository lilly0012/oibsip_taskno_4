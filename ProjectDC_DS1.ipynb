{
 "cells": [
  {
   "cell_type": "markdown",
   "id": "4879e258-6c90-4a05-9c6e-ace2986c74ea",
   "metadata": {},
   "source": [
    "***PROJECT 2 - DATA CLEANING***\n",
    "\n",
    "***DATASET 1***"
   ]
  },
  {
   "cell_type": "code",
   "execution_count": 2,
   "id": "3f469b7d-b989-4e9b-a0a2-859ebe014f2c",
   "metadata": {},
   "outputs": [
    {
     "name": "stdout",
     "output_type": "stream",
     "text": [
      "     id                                              name  host_id  \\\n",
      "0  2539                Clean & quiet apt home by the park     2787   \n",
      "1  2595                             Skylit Midtown Castle     2845   \n",
      "2  3647               THE VILLAGE OF HARLEM....NEW YORK !     4632   \n",
      "3  3831                   Cozy Entire Floor of Brownstone     4869   \n",
      "4  5022  Entire Apt: Spacious Studio/Loft by central park     7192   \n",
      "\n",
      "     host_name neighbourhood_group neighbourhood  latitude  longitude  \\\n",
      "0         John            Brooklyn    Kensington  40.64749  -73.97237   \n",
      "1     Jennifer           Manhattan       Midtown  40.75362  -73.98377   \n",
      "2    Elisabeth           Manhattan        Harlem  40.80902  -73.94190   \n",
      "3  LisaRoxanne            Brooklyn  Clinton Hill  40.68514  -73.95976   \n",
      "4        Laura           Manhattan   East Harlem  40.79851  -73.94399   \n",
      "\n",
      "         room_type  price  minimum_nights  number_of_reviews last_review  \\\n",
      "0     Private room    149               1                  9  2018-10-19   \n",
      "1  Entire home/apt    225               1                 45  2019-05-21   \n",
      "2     Private room    150               3                  0         NaN   \n",
      "3  Entire home/apt     89               1                270  2019-07-05   \n",
      "4  Entire home/apt     80              10                  9  2018-11-19   \n",
      "\n",
      "   reviews_per_month  calculated_host_listings_count  availability_365  \n",
      "0               0.21                               6               365  \n",
      "1               0.38                               2               355  \n",
      "2                NaN                               1               365  \n",
      "3               4.64                               1               194  \n",
      "4               0.10                               1                 0  \n"
     ]
    }
   ],
   "source": [
    "import pandas as pd\n",
    "\n",
    "# Load the dataset\n",
    "file_path = r'C:\\Users\\Lilly Daniel\\OneDrive\\ドキュメント\\Dataset1_DC.csv'  \n",
    "dataset = pd.read_csv(file_path)\n",
    "\n",
    "# Display the first few rows of the dataset\n",
    "print(dataset.head())"
   ]
  },
  {
   "cell_type": "code",
   "execution_count": 3,
   "id": "15ba9b6e-615e-4453-a333-6e3596442d40",
   "metadata": {},
   "outputs": [
    {
     "name": "stdout",
     "output_type": "stream",
     "text": [
      "<class 'pandas.core.frame.DataFrame'>\n",
      "RangeIndex: 48895 entries, 0 to 48894\n",
      "Data columns (total 16 columns):\n",
      " #   Column                          Non-Null Count  Dtype  \n",
      "---  ------                          --------------  -----  \n",
      " 0   id                              48895 non-null  int64  \n",
      " 1   name                            48879 non-null  object \n",
      " 2   host_id                         48895 non-null  int64  \n",
      " 3   host_name                       48874 non-null  object \n",
      " 4   neighbourhood_group             48895 non-null  object \n",
      " 5   neighbourhood                   48895 non-null  object \n",
      " 6   latitude                        48895 non-null  float64\n",
      " 7   longitude                       48895 non-null  float64\n",
      " 8   room_type                       48895 non-null  object \n",
      " 9   price                           48895 non-null  int64  \n",
      " 10  minimum_nights                  48895 non-null  int64  \n",
      " 11  number_of_reviews               48895 non-null  int64  \n",
      " 12  last_review                     38843 non-null  object \n",
      " 13  reviews_per_month               38843 non-null  float64\n",
      " 14  calculated_host_listings_count  48895 non-null  int64  \n",
      " 15  availability_365                48895 non-null  int64  \n",
      "dtypes: float64(3), int64(7), object(6)\n",
      "memory usage: 6.0+ MB\n",
      "None\n",
      "                 id       host_id      latitude     longitude         price  \\\n",
      "count  4.889500e+04  4.889500e+04  48895.000000  48895.000000  48895.000000   \n",
      "mean   1.901714e+07  6.762001e+07     40.728949    -73.952170    152.720687   \n",
      "std    1.098311e+07  7.861097e+07      0.054530      0.046157    240.154170   \n",
      "min    2.539000e+03  2.438000e+03     40.499790    -74.244420      0.000000   \n",
      "25%    9.471945e+06  7.822033e+06     40.690100    -73.983070     69.000000   \n",
      "50%    1.967728e+07  3.079382e+07     40.723070    -73.955680    106.000000   \n",
      "75%    2.915218e+07  1.074344e+08     40.763115    -73.936275    175.000000   \n",
      "max    3.648724e+07  2.743213e+08     40.913060    -73.712990  10000.000000   \n",
      "\n",
      "       minimum_nights  number_of_reviews  reviews_per_month  \\\n",
      "count    48895.000000       48895.000000       38843.000000   \n",
      "mean         7.029962          23.274466           1.373221   \n",
      "std         20.510550          44.550582           1.680442   \n",
      "min          1.000000           0.000000           0.010000   \n",
      "25%          1.000000           1.000000           0.190000   \n",
      "50%          3.000000           5.000000           0.720000   \n",
      "75%          5.000000          24.000000           2.020000   \n",
      "max       1250.000000         629.000000          58.500000   \n",
      "\n",
      "       calculated_host_listings_count  availability_365  \n",
      "count                    48895.000000      48895.000000  \n",
      "mean                         7.143982        112.781327  \n",
      "std                         32.952519        131.622289  \n",
      "min                          1.000000          0.000000  \n",
      "25%                          1.000000          0.000000  \n",
      "50%                          1.000000         45.000000  \n",
      "75%                          2.000000        227.000000  \n",
      "max                        327.000000        365.000000  \n"
     ]
    }
   ],
   "source": [
    "# Display basic information about the dataset\n",
    "print(dataset.info())\n",
    "\n",
    "# Display basic statistics of the dataset\n",
    "print(dataset.describe())"
   ]
  },
  {
   "cell_type": "code",
   "execution_count": 4,
   "id": "5a9505cb-4dc9-4848-8d7f-61b44ff1f9cb",
   "metadata": {},
   "outputs": [
    {
     "name": "stdout",
     "output_type": "stream",
     "text": [
      "id                                    0\n",
      "name                                 16\n",
      "host_id                               0\n",
      "host_name                            21\n",
      "neighbourhood_group                   0\n",
      "neighbourhood                         0\n",
      "latitude                              0\n",
      "longitude                             0\n",
      "room_type                             0\n",
      "price                                 0\n",
      "minimum_nights                        0\n",
      "number_of_reviews                     0\n",
      "last_review                       10052\n",
      "reviews_per_month                 10052\n",
      "calculated_host_listings_count        0\n",
      "availability_365                      0\n",
      "property_name                         0\n",
      "owner_name                            0\n",
      "last_inspection                       0\n",
      "monthly_reviews                       0\n",
      "dtype: int64\n"
     ]
    }
   ],
   "source": [
    "# Filling missing 'name' and 'host_name' with 'Unknown'\n",
    "dataset = dataset.assign(property_name=dataset['name'].fillna('Unknown'))\n",
    "dataset = dataset.assign(owner_name=dataset['host_name'].fillna('Unknown'))\n",
    "\n",
    "# Filling missing 'last_review' with a placeholder 'No Review' and 'reviews_per_month' with 0\n",
    "dataset = dataset.assign(last_inspection=dataset['last_review'].fillna('No Review'))\n",
    "dataset = dataset.assign(monthly_reviews=dataset['reviews_per_month'].fillna(0))\n",
    "\n",
    "# Verify missing data has been handled\n",
    "missing_data_info = dataset.isnull().sum()\n",
    "print(missing_data_info)"
   ]
  },
  {
   "cell_type": "code",
   "execution_count": 5,
   "id": "66da2c1b-ff31-4325-86a8-c65399e1562a",
   "metadata": {},
   "outputs": [
    {
     "name": "stdout",
     "output_type": "stream",
     "text": [
      "0\n"
     ]
    }
   ],
   "source": [
    "# Removing duplicate entries\n",
    "dataset.drop_duplicates(inplace=True)\n",
    "\n",
    "# Verify duplicates have been removed\n",
    "print(dataset.duplicated().sum())"
   ]
  },
  {
   "cell_type": "code",
   "execution_count": 6,
   "id": "100e604c-0ce5-4c6d-9685-ad0618c8c7c3",
   "metadata": {},
   "outputs": [
    {
     "data": {
      "image/png": "[encoded data removed]",
      "text/plain": [
       "<Figure size 1400x700 with 2 Axes>"
      ]
     },
     "metadata": {},
     "output_type": "display_data"
    }
   ],
   "source": [
    "import matplotlib.pyplot as plt\n",
    "import seaborn as sns\n",
    "\n",
    "# Visualizing outliers using box plots\n",
    "plt.figure(figsize=(14, 7))\n",
    "\n",
    "plt.subplot(1, 2, 1)\n",
    "sns.boxplot(x=dataset['price'])\n",
    "plt.title('Box Plot for Property Price')\n",
    "\n",
    "plt.subplot(1, 2, 2)\n",
    "sns.boxplot(x=dataset['minimum_nights'])\n",
    "plt.title('Box Plot for Minimum Nights Required')\n",
    "\n",
    "plt.show()"
   ]
  },
  {
   "cell_type": "code",
   "execution_count": 7,
   "id": "758cd264-be4e-463c-8b27-f134fa1bf16e",
   "metadata": {},
   "outputs": [
    {
     "name": "stdout",
     "output_type": "stream",
     "text": [
      "count    48895.000000\n",
      "mean       140.438613\n",
      "std        105.959914\n",
      "min          0.000000\n",
      "25%         69.000000\n",
      "50%        106.000000\n",
      "75%        175.000000\n",
      "max        550.000000\n",
      "Name: price, dtype: float64\n",
      "count    48895.000000\n",
      "mean         5.952776\n",
      "std          8.674476\n",
      "min          1.000000\n",
      "25%          1.000000\n",
      "50%          3.000000\n",
      "75%          5.000000\n",
      "max         30.000000\n",
      "Name: minimum_nights, dtype: float64\n"
     ]
    }
   ],
   "source": [
    "# Handling outliers: Capping extreme values in 'price' and 'minimum_nights'\n",
    "# Cap 'price' at 98th percentile\n",
    "price_threshold = dataset['price'].quantile(0.98)\n",
    "dataset['price'] = dataset['price'].apply(lambda x: price_threshold if x > price_threshold else x)\n",
    "\n",
    "# Cap 'minimum_nights' at 98th percentile\n",
    "min_nights_threshold = dataset['minimum_nights'].quantile(0.98)\n",
    "dataset['minimum_nights'] = dataset['minimum_nights'].apply(lambda x: min_nights_threshold if x > min_nights_threshold else x)\n",
    "\n",
    "# Verify outliers handling\n",
    "print(dataset['price'].describe())\n",
    "print(dataset['minimum_nights'].describe())"
   ]
  },
  {
   "cell_type": "markdown",
   "id": "0736f18b-cabc-426a-9396-d7137c1cd667",
   "metadata": {},
   "source": [
    "***THE END***"
   ]
  },
  {
   "cell_type": "code",
   "execution_count": null,
   "id": "67c282a5-5a27-40c7-b369-a572473fcbbc",
   "metadata": {},
   "outputs": [],
   "source": []
  }
 ],
 "metadata": {
  "kernelspec": {
   "display_name": "Python 3 (ipykernel)",
   "language": "python",
   "name": "python3"
  },
  "language_info": {
   "codemirror_mode": {
    "name": "ipython",
    "version": 3
   },
   "file_extension": ".py",
   "mimetype": "text/x-python",
   "name": "python",
   "nbconvert_exporter": "python",
   "pygments_lexer": "ipython3",
   "version": "3.12.4"
  }
 },
 "nbformat": 4,
 "nbformat_minor": 5
}
